{
 "cells": [
  {
   "cell_type": "markdown",
   "metadata": {},
   "source": [
    "#  Introduction/Business Problem"
   ]
  },
  {
   "cell_type": "markdown",
   "metadata": {},
   "source": [
    "  Road accident fatalities are one of the major causes of death and injuries in the world. Believed it or not, every years more people died because of road accident compare to diseases. Human factors, including their attitudes, carelessness and health contributed to almost all road accident and number keep on increasing every year. In Asia, it estimated 400,000 people are killed because of road accident and about 4 million suffered injuries. Apart from that, about 15 million more suffered disability for life sources from Transport & Research Laboratory, United Kingdom. \n",
    "WHO 2020 data declared that: \n",
    "- Approximately 1.35 million people die each year as a result of road traffic crashes. \n",
    "- Traffic crashes cost most countries 3% of their gross domestic product. \n",
    "- More than half of all road traffic deaths are among vulnerable road users: pedestrians, cyclists, and motorcyclists.\n",
    "- 93% of the world's fatalities on the roads occur in low- and middle-income countries, even though these countries have approximately 60% of the world's vehicles.\n",
    "- Road traffic injuries are the leading cause of death for children and young adults aged 5-29 years."
   ]
  },
  {
   "cell_type": "markdown",
   "metadata": {},
   "source": [
    "<h3>- Audience Target:</h3>\n",
    "\n",
    "In an effort to reduce the frequency of car collisions in a community, an algorithim must be developed to predict the severity of an accident given the current weather, road and visibility conditions. When conditions are bad, this model will alert drivers to remind them to be more careful.\n",
    "In addition, WHO 2030 Agenda for Sustainable Development has set an ambitious target of halving the global number of deaths and injuries from road traffic crashes by 2020."
   ]
  }
 ],
 "metadata": {
  "kernelspec": {
   "display_name": "Python 3",
   "language": "python",
   "name": "python3"
  },
  "language_info": {
   "codemirror_mode": {
    "name": "ipython",
    "version": 3
   },
   "file_extension": ".py",
   "mimetype": "text/x-python",
   "name": "python",
   "nbconvert_exporter": "python",
   "pygments_lexer": "ipython3",
   "version": "3.8.4"
  }
 },
 "nbformat": 4,
 "nbformat_minor": 4
}
