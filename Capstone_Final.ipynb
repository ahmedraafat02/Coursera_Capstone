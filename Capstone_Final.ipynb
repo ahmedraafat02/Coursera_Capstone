{
 "cells": [
  {
   "cell_type": "markdown",
   "metadata": {},
   "source": [
    "<h1 style='text-align: center'>Accidents Severity Data Description</h1>\n",
    "<p style='text-align: center'>Applied Data Science Capstone by IBM/Coursera</p>"
   ]
  },
  {
   "cell_type": "markdown",
   "metadata": {},
   "source": [
    "## Table of contents\n",
    "* [Introduction: Business Problem](#introduction)\n",
    "* [Data](#data)\n",
    "* [Methodology](#methodology)\n",
    "* [Analysis](#analysis)\n",
    "* [Results and Discussion](#results)\n",
    "* [Conclusion](#conclusion)"
   ]
  },
  {
   "cell_type": "markdown",
   "metadata": {},
   "source": [
    "## A. Introduction: Business Problem <a name=\"introduction\"></a>"
   ]
  },
  {
   "cell_type": "markdown",
   "metadata": {},
   "source": [
    "  Cars are helpful when it comes to safety, but accidents sometimes occur. Approximately **1.35 million** people **die** each year as a result of road traffic crashes. And road traffic injuries are the leading cause of death for children and young adults aged **5-29 years**. \n",
    "  \n",
    "  We attempt to overcome accidents by analyzing accidents and seeking for the factors that lead to the accident to set **predictors** warning you when these factors are achieved. \n",
    "  \n",
    "  Prediction of traffic accident severity is one of the crucial steps in the traffic accident management process. Timely recognition of key influences may play an important role in **improving traffic safety**. In this report, we present the classification models for road traffic accidents in Seattle, USA that predict the severity of injuries received by the accidents."
   ]
  },
  {
   "cell_type": "markdown",
   "metadata": {},
   "source": [
    "## B. Data Describe & Source<a name='data'></a>"
   ]
  },
  {
   "cell_type": "markdown",
   "metadata": {},
   "source": [
    "<h3>B.1. Data Source</h3>\n",
    "\n",
    "**The dataset** used in this project is the shared dataset **provided** by **IBM** on the course <a href='https://www.coursera.org/professional-certificates/ibm-data-science'>IBM-Data-Science</a> and it contains detailed data relating to accident severity provided by the State Police Department of **Seattle**, U.S.A. \n",
    "\n",
    "<h3>B.2. Data Describe</h3>\n",
    "\n",
    "<p>You are given a car crashes dataset in Seattle, Washingon. Most car crash events either results in loss of life or property, sometimes it results in the vehicle being towed. This dataset contains detailed data of accident severity \n",
    "provided by the State Police Department of Seattle. The collected Data was recorded on a weekly basis from 2004 until today.</p>\n",
    "\n",
    "<b>The Dataset Contains:</b><br>\n",
    "   - 39 input attributes: they contain detailed information about the recorded accidents.<br>\n",
    "   - 1 output attribute: the car accident severity evaluation, which includes all the types of collisions displayed at the    intersection or mid-block of a segment."
   ]
  },
  {
   "cell_type": "code",
   "execution_count": 20,
   "metadata": {},
   "outputs": [],
   "source": [
    "# loading libraries:\n",
    "\n",
    "import pandas as pd\n",
    "import numpy as np\n",
    "from sklearn import metrics\n",
    "from sklearn.metrics import classification_report, confusion_matrix\n",
    "import matplotlib.pyplot as plt\n",
    "from matplotlib.ticker import NullFormatter\n",
    "import matplotlib.ticker as ticker\n",
    "from sklearn import preprocessing\n",
    "%matplotlib inline\n",
    "from sklearn.utils import resample\n",
    "from sklearn.ensemble import ExtraTreesClassifier\n",
    "from sklearn import datasets\n",
    "from sklearn.model_selection import train_test_split\n",
    "from sklearn.feature_selection import SelectFromModel\n",
    "from sklearn.metrics import accuracy_score\n",
    "import seaborn as sns\n",
    "from sklearn.neighbors import KNeighborsClassifier\n",
    "from sklearn.tree import DecisionTreeClassifier\n",
    "from sklearn.linear_model import LogisticRegression\n",
    "from sklearn.metrics import roc_curve, auc\n",
    "import matplotlib.image as mpimg\n",
    "from sklearn import tree\n",
    "from sklearn.tree import export_graphviz\n",
    "from sklearn import svm\n",
    "from sklearn.ensemble import RandomForestClassifier\n",
    "import matplotlib as mpl"
   ]
  },
  {
   "cell_type": "code",
   "execution_count": 21,
   "metadata": {},
   "outputs": [
    {
     "name": "stderr",
     "output_type": "stream",
     "text": [
      "c:\\users\\user\\appdata\\local\\programs\\python\\python38-32\\lib\\site-packages\\IPython\\core\\interactiveshell.py:3145: DtypeWarning: Columns (33) have mixed types.Specify dtype option on import or set low_memory=False.\n",
      "  has_raised = await self.run_ast_nodes(code_ast.body, cell_name,\n"
     ]
    },
    {
     "data": {
      "text/html": [
       "<div>\n",
       "<style scoped>\n",
       "    .dataframe tbody tr th:only-of-type {\n",
       "        vertical-align: middle;\n",
       "    }\n",
       "\n",
       "    .dataframe tbody tr th {\n",
       "        vertical-align: top;\n",
       "    }\n",
       "\n",
       "    .dataframe thead th {\n",
       "        text-align: right;\n",
       "    }\n",
       "</style>\n",
       "<table border=\"1\" class=\"dataframe\">\n",
       "  <thead>\n",
       "    <tr style=\"text-align: right;\">\n",
       "      <th></th>\n",
       "      <th>SEVERITYCODE</th>\n",
       "      <th>X</th>\n",
       "      <th>Y</th>\n",
       "      <th>OBJECTID</th>\n",
       "      <th>INCKEY</th>\n",
       "      <th>COLDETKEY</th>\n",
       "      <th>REPORTNO</th>\n",
       "      <th>STATUS</th>\n",
       "      <th>ADDRTYPE</th>\n",
       "      <th>INTKEY</th>\n",
       "      <th>...</th>\n",
       "      <th>ROADCOND</th>\n",
       "      <th>LIGHTCOND</th>\n",
       "      <th>PEDROWNOTGRNT</th>\n",
       "      <th>SDOTCOLNUM</th>\n",
       "      <th>SPEEDING</th>\n",
       "      <th>ST_COLCODE</th>\n",
       "      <th>ST_COLDESC</th>\n",
       "      <th>SEGLANEKEY</th>\n",
       "      <th>CROSSWALKKEY</th>\n",
       "      <th>HITPARKEDCAR</th>\n",
       "    </tr>\n",
       "  </thead>\n",
       "  <tbody>\n",
       "    <tr>\n",
       "      <th>0</th>\n",
       "      <td>2</td>\n",
       "      <td>-122.323148</td>\n",
       "      <td>47.703140</td>\n",
       "      <td>1</td>\n",
       "      <td>1307</td>\n",
       "      <td>1307</td>\n",
       "      <td>3502005</td>\n",
       "      <td>Matched</td>\n",
       "      <td>Intersection</td>\n",
       "      <td>37475.0</td>\n",
       "      <td>...</td>\n",
       "      <td>Wet</td>\n",
       "      <td>Daylight</td>\n",
       "      <td>NaN</td>\n",
       "      <td>NaN</td>\n",
       "      <td>NaN</td>\n",
       "      <td>10</td>\n",
       "      <td>Entering at angle</td>\n",
       "      <td>0</td>\n",
       "      <td>0</td>\n",
       "      <td>N</td>\n",
       "    </tr>\n",
       "    <tr>\n",
       "      <th>1</th>\n",
       "      <td>1</td>\n",
       "      <td>-122.347294</td>\n",
       "      <td>47.647172</td>\n",
       "      <td>2</td>\n",
       "      <td>52200</td>\n",
       "      <td>52200</td>\n",
       "      <td>2607959</td>\n",
       "      <td>Matched</td>\n",
       "      <td>Block</td>\n",
       "      <td>NaN</td>\n",
       "      <td>...</td>\n",
       "      <td>Wet</td>\n",
       "      <td>Dark - Street Lights On</td>\n",
       "      <td>NaN</td>\n",
       "      <td>6354039.0</td>\n",
       "      <td>NaN</td>\n",
       "      <td>11</td>\n",
       "      <td>From same direction - both going straight - bo...</td>\n",
       "      <td>0</td>\n",
       "      <td>0</td>\n",
       "      <td>N</td>\n",
       "    </tr>\n",
       "    <tr>\n",
       "      <th>2</th>\n",
       "      <td>1</td>\n",
       "      <td>-122.334540</td>\n",
       "      <td>47.607871</td>\n",
       "      <td>3</td>\n",
       "      <td>26700</td>\n",
       "      <td>26700</td>\n",
       "      <td>1482393</td>\n",
       "      <td>Matched</td>\n",
       "      <td>Block</td>\n",
       "      <td>NaN</td>\n",
       "      <td>...</td>\n",
       "      <td>Dry</td>\n",
       "      <td>Daylight</td>\n",
       "      <td>NaN</td>\n",
       "      <td>4323031.0</td>\n",
       "      <td>NaN</td>\n",
       "      <td>32</td>\n",
       "      <td>One parked--one moving</td>\n",
       "      <td>0</td>\n",
       "      <td>0</td>\n",
       "      <td>N</td>\n",
       "    </tr>\n",
       "    <tr>\n",
       "      <th>3</th>\n",
       "      <td>1</td>\n",
       "      <td>-122.334803</td>\n",
       "      <td>47.604803</td>\n",
       "      <td>4</td>\n",
       "      <td>1144</td>\n",
       "      <td>1144</td>\n",
       "      <td>3503937</td>\n",
       "      <td>Matched</td>\n",
       "      <td>Block</td>\n",
       "      <td>NaN</td>\n",
       "      <td>...</td>\n",
       "      <td>Dry</td>\n",
       "      <td>Daylight</td>\n",
       "      <td>NaN</td>\n",
       "      <td>NaN</td>\n",
       "      <td>NaN</td>\n",
       "      <td>23</td>\n",
       "      <td>From same direction - all others</td>\n",
       "      <td>0</td>\n",
       "      <td>0</td>\n",
       "      <td>N</td>\n",
       "    </tr>\n",
       "    <tr>\n",
       "      <th>4</th>\n",
       "      <td>2</td>\n",
       "      <td>-122.306426</td>\n",
       "      <td>47.545739</td>\n",
       "      <td>5</td>\n",
       "      <td>17700</td>\n",
       "      <td>17700</td>\n",
       "      <td>1807429</td>\n",
       "      <td>Matched</td>\n",
       "      <td>Intersection</td>\n",
       "      <td>34387.0</td>\n",
       "      <td>...</td>\n",
       "      <td>Wet</td>\n",
       "      <td>Daylight</td>\n",
       "      <td>NaN</td>\n",
       "      <td>4028032.0</td>\n",
       "      <td>NaN</td>\n",
       "      <td>10</td>\n",
       "      <td>Entering at angle</td>\n",
       "      <td>0</td>\n",
       "      <td>0</td>\n",
       "      <td>N</td>\n",
       "    </tr>\n",
       "  </tbody>\n",
       "</table>\n",
       "<p>5 rows × 38 columns</p>\n",
       "</div>"
      ],
      "text/plain": [
       "   SEVERITYCODE           X          Y  OBJECTID  INCKEY  COLDETKEY REPORTNO  \\\n",
       "0             2 -122.323148  47.703140         1    1307       1307  3502005   \n",
       "1             1 -122.347294  47.647172         2   52200      52200  2607959   \n",
       "2             1 -122.334540  47.607871         3   26700      26700  1482393   \n",
       "3             1 -122.334803  47.604803         4    1144       1144  3503937   \n",
       "4             2 -122.306426  47.545739         5   17700      17700  1807429   \n",
       "\n",
       "    STATUS      ADDRTYPE   INTKEY  ... ROADCOND                LIGHTCOND  \\\n",
       "0  Matched  Intersection  37475.0  ...      Wet                 Daylight   \n",
       "1  Matched         Block      NaN  ...      Wet  Dark - Street Lights On   \n",
       "2  Matched         Block      NaN  ...      Dry                 Daylight   \n",
       "3  Matched         Block      NaN  ...      Dry                 Daylight   \n",
       "4  Matched  Intersection  34387.0  ...      Wet                 Daylight   \n",
       "\n",
       "  PEDROWNOTGRNT  SDOTCOLNUM SPEEDING ST_COLCODE  \\\n",
       "0           NaN         NaN      NaN         10   \n",
       "1           NaN   6354039.0      NaN         11   \n",
       "2           NaN   4323031.0      NaN         32   \n",
       "3           NaN         NaN      NaN         23   \n",
       "4           NaN   4028032.0      NaN         10   \n",
       "\n",
       "                                          ST_COLDESC  SEGLANEKEY  \\\n",
       "0                                  Entering at angle           0   \n",
       "1  From same direction - both going straight - bo...           0   \n",
       "2                             One parked--one moving           0   \n",
       "3                   From same direction - all others           0   \n",
       "4                                  Entering at angle           0   \n",
       "\n",
       "   CROSSWALKKEY  HITPARKEDCAR  \n",
       "0             0             N  \n",
       "1             0             N  \n",
       "2             0             N  \n",
       "3             0             N  \n",
       "4             0             N  \n",
       "\n",
       "[5 rows x 38 columns]"
      ]
     },
     "execution_count": 21,
     "metadata": {},
     "output_type": "execute_result"
    }
   ],
   "source": [
    "df = pd.read_csv('https://s3.us.cloud-object-storage.appdomain.cloud/cf-courses-data/CognitiveClass/DP0701EN/version-2/Data-Collisions.csv')\n",
    "df.head()"
   ]
  },
  {
   "cell_type": "code",
   "execution_count": 22,
   "metadata": {},
   "outputs": [
    {
     "data": {
      "text/plain": [
       "Text(0.5, 1.0, 'Accident Severity')"
      ]
     },
     "execution_count": 22,
     "metadata": {},
     "output_type": "execute_result"
    },
    {
     "data": {
      "image/png": "[encoded data removed]",
      "text/plain": [
       "<Figure size 432x288 with 1 Axes>"
      ]
     },
     "metadata": {
      "needs_background": "light"
     },
     "output_type": "display_data"
    }
   ],
   "source": [
    "df.SEVERITYCODE.value_counts().plot(kind='bar')\n",
    "plt.xlabel('Severity Code (1: prop damage, 2: injury)') \n",
    "plt.ylabel('Accidents Number') \n",
    "plt.title('Accident Severity')"
   ]
  },
  {
   "cell_type": "code",
   "execution_count": 23,
   "metadata": {},
   "outputs": [
    {
     "data": {
      "text/plain": [
       "SEVERITYCODE           0\n",
       "X                   5334\n",
       "Y                   5334\n",
       "OBJECTID               0\n",
       "INCKEY                 0\n",
       "COLDETKEY              0\n",
       "REPORTNO               0\n",
       "STATUS                 0\n",
       "ADDRTYPE            1926\n",
       "INTKEY            129603\n",
       "LOCATION            2677\n",
       "EXCEPTRSNCODE     109862\n",
       "EXCEPTRSNDESC     189035\n",
       "SEVERITYCODE.1         0\n",
       "SEVERITYDESC           0\n",
       "COLLISIONTYPE       4904\n",
       "PERSONCOUNT            0\n",
       "PEDCOUNT               0\n",
       "PEDCYLCOUNT            0\n",
       "VEHCOUNT               0\n",
       "INCDATE                0\n",
       "INCDTTM                0\n",
       "JUNCTIONTYPE        6329\n",
       "SDOT_COLCODE           0\n",
       "SDOT_COLDESC           0\n",
       "INATTENTIONIND    164868\n",
       "UNDERINFL           4884\n",
       "WEATHER             5081\n",
       "ROADCOND            5012\n",
       "LIGHTCOND           5170\n",
       "PEDROWNOTGRNT     190006\n",
       "SDOTCOLNUM         79737\n",
       "SPEEDING          185340\n",
       "ST_COLCODE            18\n",
       "ST_COLDESC          4904\n",
       "SEGLANEKEY             0\n",
       "CROSSWALKKEY           0\n",
       "HITPARKEDCAR           0\n",
       "dtype: int64"
      ]
     },
     "execution_count": 23,
     "metadata": {},
     "output_type": "execute_result"
    }
   ],
   "source": [
    "df.isna().sum()"
   ]
  },
  {
   "cell_type": "code",
   "execution_count": 24,
   "metadata": {
    "scrolled": false
   },
   "outputs": [
    {
     "data": {
      "text/plain": [
       "2    136485\n",
       "1    136485\n",
       "Name: SEVERITYCODE, dtype: int64"
      ]
     },
     "execution_count": 24,
     "metadata": {},
     "output_type": "execute_result"
    }
   ],
   "source": [
    "# Separate majority and minority classes\n",
    "df_majority = df[df.SEVERITYCODE==1]\n",
    "df_minority = df[df.SEVERITYCODE==2]\n",
    "\n",
    "# Upsample minority class\n",
    "df_minority_upsampled = resample(df_minority, \n",
    "                                 replace=True,     # sample with replacement\n",
    "                                 n_samples=136485,    # to match majority class\n",
    "                                 random_state=123) # reproducible results\n",
    "\n",
    "# Combine majority class with upsampled minority class\n",
    "df_upsampled = pd.concat([df_majority, df_minority_upsampled])\n",
    "\n",
    "# Display new class counts\n",
    "df_upsampled.SEVERITYCODE.value_counts()"
   ]
  },
  {
   "cell_type": "markdown",
   "metadata": {},
   "source": [
    "## Balancing the dataset"
   ]
  },
  {
   "cell_type": "code",
   "execution_count": 25,
   "metadata": {},
   "outputs": [
    {
     "data": {
      "text/plain": [
       "Text(0.5, 1.0, 'Accident Severity (balanced)')"
      ]
     },
     "execution_count": 25,
     "metadata": {},
     "output_type": "execute_result"
    },
    {
     "data": {
      "image/png": "[encoded data removed]",
      "text/plain": [
       "<Figure size 432x288 with 1 Axes>"
      ]
     },
     "metadata": {
      "needs_background": "light"
     },
     "output_type": "display_data"
    }
   ],
   "source": [
    "df_upsampled.SEVERITYCODE.value_counts().plot(kind='bar')\n",
    "plt.xlabel('Severity Code (1: prop damage, 2:injury)') \n",
    "plt.ylabel('Number of Accidents') \n",
    "plt.title('Accident Severity (balanced)')"
   ]
  },
  {
   "cell_type": "code",
   "execution_count": 26,
   "metadata": {},
   "outputs": [
    {
     "data": {
      "text/html": [
       "<div>\n",
       "<style scoped>\n",
       "    .dataframe tbody tr th:only-of-type {\n",
       "        vertical-align: middle;\n",
       "    }\n",
       "\n",
       "    .dataframe tbody tr th {\n",
       "        vertical-align: top;\n",
       "    }\n",
       "\n",
       "    .dataframe thead th {\n",
       "        text-align: right;\n",
       "    }\n",
       "</style>\n",
       "<table border=\"1\" class=\"dataframe\">\n",
       "  <thead>\n",
       "    <tr style=\"text-align: right;\">\n",
       "      <th></th>\n",
       "      <th>SEVERITYCODE</th>\n",
       "      <th>LONGITUDE</th>\n",
       "      <th>LATITUDE</th>\n",
       "      <th>OBJECTID</th>\n",
       "      <th>INCKEY</th>\n",
       "      <th>COLDETKEY</th>\n",
       "      <th>REPORTNO</th>\n",
       "      <th>STATUS</th>\n",
       "      <th>ADDRTYPE</th>\n",
       "      <th>INTKEY</th>\n",
       "      <th>...</th>\n",
       "      <th>ROADCOND</th>\n",
       "      <th>LIGHTCOND</th>\n",
       "      <th>PEDROWNOTGRNT</th>\n",
       "      <th>SDOTCOLNUM</th>\n",
       "      <th>SPEEDING</th>\n",
       "      <th>ST_COLCODE</th>\n",
       "      <th>ST_COLDESC</th>\n",
       "      <th>SEGLANEKEY</th>\n",
       "      <th>CROSSWALKKEY</th>\n",
       "      <th>HITPARKEDCAR</th>\n",
       "    </tr>\n",
       "  </thead>\n",
       "  <tbody>\n",
       "    <tr>\n",
       "      <th>0</th>\n",
       "      <td>2</td>\n",
       "      <td>-122.323148</td>\n",
       "      <td>47.703140</td>\n",
       "      <td>1</td>\n",
       "      <td>1307</td>\n",
       "      <td>1307</td>\n",
       "      <td>3502005</td>\n",
       "      <td>Matched</td>\n",
       "      <td>Intersection</td>\n",
       "      <td>37475.0</td>\n",
       "      <td>...</td>\n",
       "      <td>Wet</td>\n",
       "      <td>Daylight</td>\n",
       "      <td>NaN</td>\n",
       "      <td>NaN</td>\n",
       "      <td>NaN</td>\n",
       "      <td>10</td>\n",
       "      <td>Entering at angle</td>\n",
       "      <td>0</td>\n",
       "      <td>0</td>\n",
       "      <td>N</td>\n",
       "    </tr>\n",
       "    <tr>\n",
       "      <th>1</th>\n",
       "      <td>1</td>\n",
       "      <td>-122.347294</td>\n",
       "      <td>47.647172</td>\n",
       "      <td>2</td>\n",
       "      <td>52200</td>\n",
       "      <td>52200</td>\n",
       "      <td>2607959</td>\n",
       "      <td>Matched</td>\n",
       "      <td>Block</td>\n",
       "      <td>NaN</td>\n",
       "      <td>...</td>\n",
       "      <td>Wet</td>\n",
       "      <td>Dark - Street Lights On</td>\n",
       "      <td>NaN</td>\n",
       "      <td>6354039.0</td>\n",
       "      <td>NaN</td>\n",
       "      <td>11</td>\n",
       "      <td>From same direction - both going straight - bo...</td>\n",
       "      <td>0</td>\n",
       "      <td>0</td>\n",
       "      <td>N</td>\n",
       "    </tr>\n",
       "    <tr>\n",
       "      <th>2</th>\n",
       "      <td>1</td>\n",
       "      <td>-122.334540</td>\n",
       "      <td>47.607871</td>\n",
       "      <td>3</td>\n",
       "      <td>26700</td>\n",
       "      <td>26700</td>\n",
       "      <td>1482393</td>\n",
       "      <td>Matched</td>\n",
       "      <td>Block</td>\n",
       "      <td>NaN</td>\n",
       "      <td>...</td>\n",
       "      <td>Dry</td>\n",
       "      <td>Daylight</td>\n",
       "      <td>NaN</td>\n",
       "      <td>4323031.0</td>\n",
       "      <td>NaN</td>\n",
       "      <td>32</td>\n",
       "      <td>One parked--one moving</td>\n",
       "      <td>0</td>\n",
       "      <td>0</td>\n",
       "      <td>N</td>\n",
       "    </tr>\n",
       "    <tr>\n",
       "      <th>3</th>\n",
       "      <td>1</td>\n",
       "      <td>-122.334803</td>\n",
       "      <td>47.604803</td>\n",
       "      <td>4</td>\n",
       "      <td>1144</td>\n",
       "      <td>1144</td>\n",
       "      <td>3503937</td>\n",
       "      <td>Matched</td>\n",
       "      <td>Block</td>\n",
       "      <td>NaN</td>\n",
       "      <td>...</td>\n",
       "      <td>Dry</td>\n",
       "      <td>Daylight</td>\n",
       "      <td>NaN</td>\n",
       "      <td>NaN</td>\n",
       "      <td>NaN</td>\n",
       "      <td>23</td>\n",
       "      <td>From same direction - all others</td>\n",
       "      <td>0</td>\n",
       "      <td>0</td>\n",
       "      <td>N</td>\n",
       "    </tr>\n",
       "    <tr>\n",
       "      <th>4</th>\n",
       "      <td>2</td>\n",
       "      <td>-122.306426</td>\n",
       "      <td>47.545739</td>\n",
       "      <td>5</td>\n",
       "      <td>17700</td>\n",
       "      <td>17700</td>\n",
       "      <td>1807429</td>\n",
       "      <td>Matched</td>\n",
       "      <td>Intersection</td>\n",
       "      <td>34387.0</td>\n",
       "      <td>...</td>\n",
       "      <td>Wet</td>\n",
       "      <td>Daylight</td>\n",
       "      <td>NaN</td>\n",
       "      <td>4028032.0</td>\n",
       "      <td>NaN</td>\n",
       "      <td>10</td>\n",
       "      <td>Entering at angle</td>\n",
       "      <td>0</td>\n",
       "      <td>0</td>\n",
       "      <td>N</td>\n",
       "    </tr>\n",
       "  </tbody>\n",
       "</table>\n",
       "<p>5 rows × 38 columns</p>\n",
       "</div>"
      ],
      "text/plain": [
       "   SEVERITYCODE   LONGITUDE   LATITUDE  OBJECTID  INCKEY  COLDETKEY REPORTNO  \\\n",
       "0             2 -122.323148  47.703140         1    1307       1307  3502005   \n",
       "1             1 -122.347294  47.647172         2   52200      52200  2607959   \n",
       "2             1 -122.334540  47.607871         3   26700      26700  1482393   \n",
       "3             1 -122.334803  47.604803         4    1144       1144  3503937   \n",
       "4             2 -122.306426  47.545739         5   17700      17700  1807429   \n",
       "\n",
       "    STATUS      ADDRTYPE   INTKEY  ... ROADCOND                LIGHTCOND  \\\n",
       "0  Matched  Intersection  37475.0  ...      Wet                 Daylight   \n",
       "1  Matched         Block      NaN  ...      Wet  Dark - Street Lights On   \n",
       "2  Matched         Block      NaN  ...      Dry                 Daylight   \n",
       "3  Matched         Block      NaN  ...      Dry                 Daylight   \n",
       "4  Matched  Intersection  34387.0  ...      Wet                 Daylight   \n",
       "\n",
       "  PEDROWNOTGRNT  SDOTCOLNUM SPEEDING ST_COLCODE  \\\n",
       "0           NaN         NaN      NaN         10   \n",
       "1           NaN   6354039.0      NaN         11   \n",
       "2           NaN   4323031.0      NaN         32   \n",
       "3           NaN         NaN      NaN         23   \n",
       "4           NaN   4028032.0      NaN         10   \n",
       "\n",
       "                                          ST_COLDESC  SEGLANEKEY  \\\n",
       "0                                  Entering at angle           0   \n",
       "1  From same direction - both going straight - bo...           0   \n",
       "2                             One parked--one moving           0   \n",
       "3                   From same direction - all others           0   \n",
       "4                                  Entering at angle           0   \n",
       "\n",
       "   CROSSWALKKEY  HITPARKEDCAR  \n",
       "0             0             N  \n",
       "1             0             N  \n",
       "2             0             N  \n",
       "3             0             N  \n",
       "4             0             N  \n",
       "\n",
       "[5 rows x 38 columns]"
      ]
     },
     "execution_count": 26,
     "metadata": {},
     "output_type": "execute_result"
    }
   ],
   "source": [
    "# Rename X and Y with Longitude and Latitude \n",
    "df1 = df.rename(columns={'X': 'LONGITUDE', 'Y': 'LATITUDE'})\n",
    "df1.head()"
   ]
  },
  {
   "cell_type": "code",
   "execution_count": 27,
   "metadata": {},
   "outputs": [
    {
     "data": {
      "text/html": [
       "<div>\n",
       "<style scoped>\n",
       "    .dataframe tbody tr th:only-of-type {\n",
       "        vertical-align: middle;\n",
       "    }\n",
       "\n",
       "    .dataframe tbody tr th {\n",
       "        vertical-align: top;\n",
       "    }\n",
       "\n",
       "    .dataframe thead th {\n",
       "        text-align: right;\n",
       "    }\n",
       "</style>\n",
       "<table border=\"1\" class=\"dataframe\">\n",
       "  <thead>\n",
       "    <tr style=\"text-align: right;\">\n",
       "      <th></th>\n",
       "      <th>SEVERITYCODE</th>\n",
       "      <th>LONGITUDE</th>\n",
       "      <th>LATITUDE</th>\n",
       "      <th>PERSONCOUNT</th>\n",
       "      <th>VEHCOUNT</th>\n",
       "      <th>JUNCTIONTYPE</th>\n",
       "      <th>INATTENTIONIND</th>\n",
       "      <th>WEATHER</th>\n",
       "      <th>ROADCOND</th>\n",
       "      <th>LIGHTCOND</th>\n",
       "      <th>SPEEDING</th>\n",
       "    </tr>\n",
       "  </thead>\n",
       "  <tbody>\n",
       "    <tr>\n",
       "      <th>0</th>\n",
       "      <td>2</td>\n",
       "      <td>-122.323148</td>\n",
       "      <td>47.703140</td>\n",
       "      <td>2</td>\n",
       "      <td>2</td>\n",
       "      <td>At Intersection (intersection related)</td>\n",
       "      <td>NaN</td>\n",
       "      <td>Overcast</td>\n",
       "      <td>Wet</td>\n",
       "      <td>Daylight</td>\n",
       "      <td>NaN</td>\n",
       "    </tr>\n",
       "    <tr>\n",
       "      <th>1</th>\n",
       "      <td>1</td>\n",
       "      <td>-122.347294</td>\n",
       "      <td>47.647172</td>\n",
       "      <td>2</td>\n",
       "      <td>2</td>\n",
       "      <td>Mid-Block (not related to intersection)</td>\n",
       "      <td>NaN</td>\n",
       "      <td>Raining</td>\n",
       "      <td>Wet</td>\n",
       "      <td>Dark - Street Lights On</td>\n",
       "      <td>NaN</td>\n",
       "    </tr>\n",
       "    <tr>\n",
       "      <th>2</th>\n",
       "      <td>1</td>\n",
       "      <td>-122.334540</td>\n",
       "      <td>47.607871</td>\n",
       "      <td>4</td>\n",
       "      <td>3</td>\n",
       "      <td>Mid-Block (not related to intersection)</td>\n",
       "      <td>NaN</td>\n",
       "      <td>Overcast</td>\n",
       "      <td>Dry</td>\n",
       "      <td>Daylight</td>\n",
       "      <td>NaN</td>\n",
       "    </tr>\n",
       "    <tr>\n",
       "      <th>3</th>\n",
       "      <td>1</td>\n",
       "      <td>-122.334803</td>\n",
       "      <td>47.604803</td>\n",
       "      <td>3</td>\n",
       "      <td>3</td>\n",
       "      <td>Mid-Block (not related to intersection)</td>\n",
       "      <td>NaN</td>\n",
       "      <td>Clear</td>\n",
       "      <td>Dry</td>\n",
       "      <td>Daylight</td>\n",
       "      <td>NaN</td>\n",
       "    </tr>\n",
       "    <tr>\n",
       "      <th>4</th>\n",
       "      <td>2</td>\n",
       "      <td>-122.306426</td>\n",
       "      <td>47.545739</td>\n",
       "      <td>2</td>\n",
       "      <td>2</td>\n",
       "      <td>At Intersection (intersection related)</td>\n",
       "      <td>NaN</td>\n",
       "      <td>Raining</td>\n",
       "      <td>Wet</td>\n",
       "      <td>Daylight</td>\n",
       "      <td>NaN</td>\n",
       "    </tr>\n",
       "  </tbody>\n",
       "</table>\n",
       "</div>"
      ],
      "text/plain": [
       "   SEVERITYCODE   LONGITUDE   LATITUDE  PERSONCOUNT  VEHCOUNT  \\\n",
       "0             2 -122.323148  47.703140            2         2   \n",
       "1             1 -122.347294  47.647172            2         2   \n",
       "2             1 -122.334540  47.607871            4         3   \n",
       "3             1 -122.334803  47.604803            3         3   \n",
       "4             2 -122.306426  47.545739            2         2   \n",
       "\n",
       "                              JUNCTIONTYPE INATTENTIONIND   WEATHER ROADCOND  \\\n",
       "0   At Intersection (intersection related)            NaN  Overcast      Wet   \n",
       "1  Mid-Block (not related to intersection)            NaN   Raining      Wet   \n",
       "2  Mid-Block (not related to intersection)            NaN  Overcast      Dry   \n",
       "3  Mid-Block (not related to intersection)            NaN     Clear      Dry   \n",
       "4   At Intersection (intersection related)            NaN   Raining      Wet   \n",
       "\n",
       "                 LIGHTCOND SPEEDING  \n",
       "0                 Daylight      NaN  \n",
       "1  Dark - Street Lights On      NaN  \n",
       "2                 Daylight      NaN  \n",
       "3                 Daylight      NaN  \n",
       "4                 Daylight      NaN  "
      ]
     },
     "execution_count": 27,
     "metadata": {},
     "output_type": "execute_result"
    }
   ],
   "source": [
    "df2 = df1.drop([\"LOCATION\", \"SEVERITYCODE.1\", \"OBJECTID\", \"INCKEY\", \"COLDETKEY\", \"REPORTNO\", \"INTKEY\", \n",
    "          \"EXCEPTRSNCODE\", \"SDOT_COLCODE\", \"ST_COLCODE\", \"SEGLANEKEY\", \"CROSSWALKKEY\", \"SDOTCOLNUM\", \n",
    "          \"STATUS\", \"EXCEPTRSNDESC\", \"INCDATE\", \"INCDTTM\", \"SDOT_COLDESC\", \"PEDROWNOTGRNT\", \"UNDERINFL\", \n",
    "        \"PEDCYLCOUNT\", \"HITPARKEDCAR\", \"ST_COLDESC\", \"SEVERITYDESC\", \"ADDRTYPE\", \"COLLISIONTYPE\", \"PEDCOUNT\"], axis=1)\n",
    "df2.head()"
   ]
  },
  {
   "cell_type": "code",
   "execution_count": 28,
   "metadata": {},
   "outputs": [
    {
     "data": {
      "text/plain": [
       "SEVERITYCODE        int64\n",
       "LONGITUDE         float64\n",
       "LATITUDE          float64\n",
       "PERSONCOUNT         int64\n",
       "VEHCOUNT            int64\n",
       "JUNCTIONTYPE       object\n",
       "INATTENTIONIND     object\n",
       "WEATHER            object\n",
       "ROADCOND           object\n",
       "LIGHTCOND          object\n",
       "SPEEDING           object\n",
       "dtype: object"
      ]
     },
     "execution_count": 28,
     "metadata": {},
     "output_type": "execute_result"
    }
   ],
   "source": [
    "df2.dtypes"
   ]
  },
  {
   "cell_type": "code",
   "execution_count": 29,
   "metadata": {},
   "outputs": [
    {
     "data": {
      "text/plain": [
       "Index(['SEVERITYCODE', 'LONGITUDE', 'LATITUDE', 'PERSONCOUNT', 'VEHCOUNT',\n",
       "       'JUNCTIONTYPE', 'INATTENTIONIND', 'WEATHER', 'ROADCOND', 'LIGHTCOND',\n",
       "       'SPEEDING'],\n",
       "      dtype='object')"
      ]
     },
     "execution_count": 29,
     "metadata": {},
     "output_type": "execute_result"
    }
   ],
   "source": [
    "df2.columns"
   ]
  },
  {
   "cell_type": "code",
   "execution_count": 30,
   "metadata": {},
   "outputs": [
    {
     "data": {
      "text/plain": [
       "SEVERITYCODE           0\n",
       "LONGITUDE           5334\n",
       "LATITUDE            5334\n",
       "PERSONCOUNT            0\n",
       "VEHCOUNT               0\n",
       "JUNCTIONTYPE        6329\n",
       "INATTENTIONIND    164868\n",
       "WEATHER             5081\n",
       "ROADCOND            5012\n",
       "LIGHTCOND           5170\n",
       "SPEEDING          185340\n",
       "dtype: int64"
      ]
     },
     "execution_count": 30,
     "metadata": {},
     "output_type": "execute_result"
    }
   ],
   "source": [
    "df2.isna().sum()"
   ]
  },
  {
   "cell_type": "code",
   "execution_count": 31,
   "metadata": {},
   "outputs": [
    {
     "data": {
      "text/plain": [
       "Clear                       111135\n",
       "Raining                      33145\n",
       "Overcast                     27714\n",
       "Unknown                      15091\n",
       "Snowing                        907\n",
       "Other                          832\n",
       "Fog/Smog/Smoke                 569\n",
       "Sleet/Hail/Freezing Rain       113\n",
       "Blowing Sand/Dirt               56\n",
       "Severe Crosswind                25\n",
       "Partly Cloudy                    5\n",
       "Name: WEATHER, dtype: int64"
      ]
     },
     "execution_count": 31,
     "metadata": {},
     "output_type": "execute_result"
    }
   ],
   "source": [
    "df2['WEATHER'].value_counts()"
   ]
  },
  {
   "cell_type": "markdown",
   "metadata": {},
   "source": [
    "## Handling of missing Values"
   ]
  },
  {
   "cell_type": "code",
   "execution_count": 32,
   "metadata": {},
   "outputs": [
    {
     "data": {
      "text/plain": [
       "1    132139\n",
       "2     33145\n",
       "3     27714\n",
       "4       907\n",
       "5       569\n",
       "6       113\n",
       "7        56\n",
       "8        25\n",
       "9         5\n",
       "Name: WEATHER, dtype: int64"
      ]
     },
     "execution_count": 32,
     "metadata": {},
     "output_type": "execute_result"
    }
   ],
   "source": [
    "df2['WEATHER'].replace(np.NaN, \"Unknown\", inplace=True)\n",
    "\n",
    "# Replacing Unknown and Other by Clear, the most frequent value of the column\n",
    "encoding_WEATHER = {\"WEATHER\": \n",
    "                            {\"Clear\": 1,\n",
    "                             \"Unknown\": 1,\n",
    "                             \"Other\": 1,\n",
    "                             \"Raining\": 2,\n",
    "                             \"Overcast\": 3,\n",
    "                             \"Snowing\": 4,\n",
    "                             \"Fog/Smog/Smoke\": 5,\n",
    "                             \"Sleet/Hail/Freezing Rain\": 6,\n",
    "                             \"Blowing Sand/Dirt\": 7,\n",
    "                             \"Severe Crosswind\": 8,\n",
    "                             \"Partly Cloudy\": 9}}\n",
    "df2.replace(encoding_WEATHER, inplace=True)\n",
    "df2['WEATHER'].value_counts()"
   ]
  },
  {
   "cell_type": "code",
   "execution_count": 33,
   "metadata": {},
   "outputs": [
    {
     "data": {
      "text/plain": [
       "Y    9333\n",
       "Name: SPEEDING, dtype: int64"
      ]
     },
     "execution_count": 33,
     "metadata": {},
     "output_type": "execute_result"
    }
   ],
   "source": [
    "df2['SPEEDING'].value_counts()"
   ]
  },
  {
   "cell_type": "code",
   "execution_count": 34,
   "metadata": {},
   "outputs": [],
   "source": [
    "# Replacing NaN value by N\n",
    "df2['SPEEDING'].replace(np.NaN, \"N\", inplace=True)"
   ]
  },
  {
   "cell_type": "code",
   "execution_count": 35,
   "metadata": {},
   "outputs": [
    {
     "data": {
      "text/plain": [
       "0    185340\n",
       "1      9333\n",
       "Name: SPEEDING, dtype: int64"
      ]
     },
     "execution_count": 35,
     "metadata": {},
     "output_type": "execute_result"
    }
   ],
   "source": [
    "encoding_SPEEDING = {\"SPEEDING\": \n",
    "                            {\"Y\": 1,\n",
    "                             \"N\": 0,\n",
    "                              }}\n",
    "df2.replace(encoding_SPEEDING, inplace=True)\n",
    "df2['SPEEDING'].value_counts()"
   ]
  },
  {
   "cell_type": "code",
   "execution_count": 36,
   "metadata": {},
   "outputs": [
    {
     "data": {
      "text/plain": [
       "Daylight                    116137\n",
       "Dark - Street Lights On      48507\n",
       "Unknown                      13473\n",
       "Dusk                          5902\n",
       "Dawn                          2502\n",
       "Dark - No Street Lights       1537\n",
       "Dark - Street Lights Off      1199\n",
       "Other                          235\n",
       "Dark - Unknown Lighting         11\n",
       "Name: LIGHTCOND, dtype: int64"
      ]
     },
     "execution_count": 36,
     "metadata": {},
     "output_type": "execute_result"
    }
   ],
   "source": [
    "df2['LIGHTCOND'].value_counts()"
   ]
  },
  {
   "cell_type": "code",
   "execution_count": 37,
   "metadata": {},
   "outputs": [],
   "source": [
    "df2['LIGHTCOND'].replace(np.NaN, \"Unknown\", inplace=True)"
   ]
  },
  {
   "cell_type": "code",
   "execution_count": 38,
   "metadata": {},
   "outputs": [
    {
     "data": {
      "text/plain": [
       "0    135015\n",
       "1     59658\n",
       "Name: LIGHTCOND, dtype: int64"
      ]
     },
     "execution_count": 38,
     "metadata": {},
     "output_type": "execute_result"
    }
   ],
   "source": [
    "encoding_LIGHTCOND = {\"LIGHTCOND\": \n",
    "                            {\"Daylight\": 0,\n",
    "                             \"Unknown\": 0,\n",
    "                             \"Other\": 0,\n",
    "                             \"Dark - Street Lights On\": 1,\n",
    "                             \"Dusk\": 1,\n",
    "                             \"Dawn\": 1,\n",
    "                             \"Dark - No Street Lights\": 1,\n",
    "                             \"Dark - Street Lights Off\": 1,\n",
    "                             \"Dark - Unknown Lighting\": 1,\n",
    "                              }}\n",
    "df2.replace(encoding_LIGHTCOND, inplace=True)\n",
    "df2['LIGHTCOND'].value_counts()"
   ]
  },
  {
   "cell_type": "code",
   "execution_count": 39,
   "metadata": {},
   "outputs": [
    {
     "data": {
      "text/plain": [
       "Dry               124510\n",
       "Wet                47474\n",
       "Unknown            15078\n",
       "Ice                 1209\n",
       "Snow/Slush          1004\n",
       "Other                132\n",
       "Standing Water       115\n",
       "Sand/Mud/Dirt         75\n",
       "Oil                   64\n",
       "Name: ROADCOND, dtype: int64"
      ]
     },
     "execution_count": 39,
     "metadata": {},
     "output_type": "execute_result"
    }
   ],
   "source": [
    "df2['ROADCOND'].value_counts()"
   ]
  },
  {
   "cell_type": "code",
   "execution_count": 40,
   "metadata": {},
   "outputs": [],
   "source": [
    "df2['ROADCOND'].replace(np.NaN, \"Unknown\", inplace=True)"
   ]
  },
  {
   "cell_type": "code",
   "execution_count": 41,
   "metadata": {},
   "outputs": [
    {
     "data": {
      "text/plain": [
       "1    144732\n",
       "2     47474\n",
       "3      1209\n",
       "4      1004\n",
       "5       115\n",
       "6        75\n",
       "7        64\n",
       "Name: ROADCOND, dtype: int64"
      ]
     },
     "execution_count": 41,
     "metadata": {},
     "output_type": "execute_result"
    }
   ],
   "source": [
    "# Replacing Unknown and Other by Dry, the most frequent value of the column\n",
    "encoding_ROADCOND = {\"ROADCOND\": \n",
    "                            {\"Dry\": 1,\n",
    "                             \"Unknown\": 1,\n",
    "                             \"Other\": 1,\n",
    "                             \"Wet\": 2,\n",
    "                             \"Ice\": 3,\n",
    "                             \"Snow/Slush\": 4,\n",
    "                             \"Standing Water\": 5,\n",
    "                             \"Sand/Mud/Dirt\": 6,\n",
    "                             \"Oil\": 7,\n",
    "                              }}\n",
    "df2.replace(encoding_ROADCOND, inplace=True)\n",
    "df2['ROADCOND'].value_counts()"
   ]
  },
  {
   "cell_type": "code",
   "execution_count": 42,
   "metadata": {},
   "outputs": [
    {
     "data": {
      "text/plain": [
       "Mid-Block (not related to intersection)              89800\n",
       "At Intersection (intersection related)               62810\n",
       "Mid-Block (but intersection related)                 22790\n",
       "Driveway Junction                                    10671\n",
       "At Intersection (but not related to intersection)     2098\n",
       "Ramp Junction                                          166\n",
       "Unknown                                                  9\n",
       "Name: JUNCTIONTYPE, dtype: int64"
      ]
     },
     "execution_count": 42,
     "metadata": {},
     "output_type": "execute_result"
    }
   ],
   "source": [
    "df2['JUNCTIONTYPE'].value_counts()"
   ]
  },
  {
   "cell_type": "code",
   "execution_count": 43,
   "metadata": {},
   "outputs": [],
   "source": [
    "df2['JUNCTIONTYPE'].replace(np.NaN, \"Unknown\", inplace=True)\n"
   ]
  },
  {
   "cell_type": "code",
   "execution_count": 44,
   "metadata": {},
   "outputs": [
    {
     "data": {
      "text/plain": [
       "1    96138\n",
       "2    62810\n",
       "3    22790\n",
       "4    10671\n",
       "5     2098\n",
       "6      166\n",
       "Name: JUNCTIONTYPE, dtype: int64"
      ]
     },
     "execution_count": 44,
     "metadata": {},
     "output_type": "execute_result"
    }
   ],
   "source": [
    "# Replacing Unknown by Mid-Block (not related to intersection), the most frequent value of the column\n",
    "encoding_JUNCTIONTYPE = {\"JUNCTIONTYPE\": \n",
    "                            {\"Mid-Block (not related to intersection)\": 1,\n",
    "                             \"Unknown\": 1,\n",
    "                             \"At Intersection (intersection related)\": 2,\n",
    "                             \"Mid-Block (but intersection related)\": 3,\n",
    "                             \"Driveway Junction\": 4,\n",
    "                             \"At Intersection (but not related to intersection)\": 5,\n",
    "                             \"Ramp Junction\": 6,\n",
    "                              }}\n",
    "df2.replace(encoding_JUNCTIONTYPE, inplace=True)\n",
    "df2['JUNCTIONTYPE'].value_counts()"
   ]
  },
  {
   "cell_type": "code",
   "execution_count": 45,
   "metadata": {},
   "outputs": [
    {
     "data": {
      "text/plain": [
       "-122.332653    265\n",
       "-122.344896    254\n",
       "-122.328079    252\n",
       "-122.344997    239\n",
       "-122.299160    231\n",
       "              ... \n",
       "-122.322768      1\n",
       "-122.288680      1\n",
       "-122.405699      1\n",
       "-122.323578      1\n",
       "-122.343898      1\n",
       "Name: LONGITUDE, Length: 23563, dtype: int64"
      ]
     },
     "execution_count": 45,
     "metadata": {},
     "output_type": "execute_result"
    }
   ],
   "source": [
    "df2['LONGITUDE'].value_counts()\n"
   ]
  },
  {
   "cell_type": "code",
   "execution_count": 46,
   "metadata": {},
   "outputs": [
    {
     "name": "stdout",
     "output_type": "stream",
     "text": [
      "Average of LONGITUDE: -122.33051843903844\n"
     ]
    }
   ],
   "source": [
    "# NaN values are placed by the mean values of the column\n",
    "avg_LONGITUDE = df2[\"LONGITUDE\"].astype(\"float\").mean(axis=0)\n",
    "print(\"Average of LONGITUDE:\", avg_LONGITUDE)\n",
    "df2['LONGITUDE'].replace(np.NaN, avg_LONGITUDE, inplace=True)"
   ]
  },
  {
   "cell_type": "code",
   "execution_count": 47,
   "metadata": {},
   "outputs": [
    {
     "data": {
      "text/plain": [
       "47.708655    265\n",
       "47.717173    254\n",
       "47.604161    252\n",
       "47.725036    239\n",
       "47.579673    231\n",
       "            ... \n",
       "47.556705      1\n",
       "47.709101      1\n",
       "47.513899      1\n",
       "47.565438      1\n",
       "47.563521      1\n",
       "Name: LATITUDE, Length: 23839, dtype: int64"
      ]
     },
     "execution_count": 47,
     "metadata": {},
     "output_type": "execute_result"
    }
   ],
   "source": [
    "df2['LATITUDE'].value_counts()\n"
   ]
  },
  {
   "cell_type": "code",
   "execution_count": 48,
   "metadata": {},
   "outputs": [
    {
     "name": "stdout",
     "output_type": "stream",
     "text": [
      "Average of LATITUDE: 47.61954251768817\n"
     ]
    }
   ],
   "source": [
    "# NaN values are placed by the mean values of the column\n",
    "avg_LATITUDE = df2[\"LATITUDE\"].astype(\"float\").mean(axis=0)\n",
    "print(\"Average of LATITUDE:\", avg_LATITUDE)\n",
    "df2['LATITUDE'].replace(np.NaN, avg_LATITUDE, inplace=True)"
   ]
  },
  {
   "cell_type": "code",
   "execution_count": 49,
   "metadata": {},
   "outputs": [
    {
     "data": {
      "text/plain": [
       "1    136485\n",
       "2     58188\n",
       "Name: SEVERITYCODE, dtype: int64"
      ]
     },
     "execution_count": 49,
     "metadata": {},
     "output_type": "execute_result"
    }
   ],
   "source": [
    "#(1:prop damage   2:injury)\n",
    "df2['SEVERITYCODE'].value_counts()"
   ]
  },
  {
   "cell_type": "code",
   "execution_count": 50,
   "metadata": {},
   "outputs": [
    {
     "data": {
      "text/plain": [
       "Y    29805\n",
       "Name: INATTENTIONIND, dtype: int64"
      ]
     },
     "execution_count": 50,
     "metadata": {},
     "output_type": "execute_result"
    }
   ],
   "source": [
    "df2['INATTENTIONIND'].value_counts()\n"
   ]
  },
  {
   "cell_type": "code",
   "execution_count": 51,
   "metadata": {},
   "outputs": [],
   "source": [
    "df2['INATTENTIONIND'].replace(np.NaN, \"N\", inplace=True)"
   ]
  },
  {
   "cell_type": "code",
   "execution_count": 52,
   "metadata": {},
   "outputs": [
    {
     "data": {
      "text/plain": [
       "0    185340\n",
       "1      9333\n",
       "Name: SPEEDING, dtype: int64"
      ]
     },
     "execution_count": 52,
     "metadata": {},
     "output_type": "execute_result"
    }
   ],
   "source": [
    "encoding_INATTENTIONIND = {\"INATTENTIONIND\": \n",
    "                            {\"Y\": 1,\n",
    "                             \"N\": 0,\n",
    "                              }}\n",
    "df2.replace(encoding_INATTENTIONIND, inplace=True)\n",
    "df2['SPEEDING'].value_counts()"
   ]
  },
  {
   "cell_type": "code",
   "execution_count": 53,
   "metadata": {},
   "outputs": [
    {
     "data": {
      "text/plain": [
       "SEVERITYCODE      0\n",
       "LONGITUDE         0\n",
       "LATITUDE          0\n",
       "PERSONCOUNT       0\n",
       "VEHCOUNT          0\n",
       "JUNCTIONTYPE      0\n",
       "INATTENTIONIND    0\n",
       "WEATHER           0\n",
       "ROADCOND          0\n",
       "LIGHTCOND         0\n",
       "SPEEDING          0\n",
       "dtype: int64"
      ]
     },
     "execution_count": 53,
     "metadata": {},
     "output_type": "execute_result"
    }
   ],
   "source": [
    "df2.isna().sum()"
   ]
  },
  {
   "cell_type": "code",
   "execution_count": 54,
   "metadata": {},
   "outputs": [
    {
     "data": {
      "text/html": [
       "<div>\n",
       "<style scoped>\n",
       "    .dataframe tbody tr th:only-of-type {\n",
       "        vertical-align: middle;\n",
       "    }\n",
       "\n",
       "    .dataframe tbody tr th {\n",
       "        vertical-align: top;\n",
       "    }\n",
       "\n",
       "    .dataframe thead th {\n",
       "        text-align: right;\n",
       "    }\n",
       "</style>\n",
       "<table border=\"1\" class=\"dataframe\">\n",
       "  <thead>\n",
       "    <tr style=\"text-align: right;\">\n",
       "      <th></th>\n",
       "      <th>SEVERITYCODE</th>\n",
       "      <th>LONGITUDE</th>\n",
       "      <th>LATITUDE</th>\n",
       "      <th>PERSONCOUNT</th>\n",
       "      <th>VEHCOUNT</th>\n",
       "      <th>JUNCTIONTYPE</th>\n",
       "      <th>INATTENTIONIND</th>\n",
       "      <th>WEATHER</th>\n",
       "      <th>ROADCOND</th>\n",
       "      <th>LIGHTCOND</th>\n",
       "      <th>SPEEDING</th>\n",
       "    </tr>\n",
       "  </thead>\n",
       "  <tbody>\n",
       "    <tr>\n",
       "      <th>0</th>\n",
       "      <td>2</td>\n",
       "      <td>-122.323148</td>\n",
       "      <td>47.703140</td>\n",
       "      <td>2</td>\n",
       "      <td>2</td>\n",
       "      <td>2</td>\n",
       "      <td>0</td>\n",
       "      <td>3</td>\n",
       "      <td>2</td>\n",
       "      <td>0</td>\n",
       "      <td>0</td>\n",
       "    </tr>\n",
       "    <tr>\n",
       "      <th>1</th>\n",
       "      <td>1</td>\n",
       "      <td>-122.347294</td>\n",
       "      <td>47.647172</td>\n",
       "      <td>2</td>\n",
       "      <td>2</td>\n",
       "      <td>1</td>\n",
       "      <td>0</td>\n",
       "      <td>2</td>\n",
       "      <td>2</td>\n",
       "      <td>1</td>\n",
       "      <td>0</td>\n",
       "    </tr>\n",
       "    <tr>\n",
       "      <th>2</th>\n",
       "      <td>1</td>\n",
       "      <td>-122.334540</td>\n",
       "      <td>47.607871</td>\n",
       "      <td>4</td>\n",
       "      <td>3</td>\n",
       "      <td>1</td>\n",
       "      <td>0</td>\n",
       "      <td>3</td>\n",
       "      <td>1</td>\n",
       "      <td>0</td>\n",
       "      <td>0</td>\n",
       "    </tr>\n",
       "    <tr>\n",
       "      <th>3</th>\n",
       "      <td>1</td>\n",
       "      <td>-122.334803</td>\n",
       "      <td>47.604803</td>\n",
       "      <td>3</td>\n",
       "      <td>3</td>\n",
       "      <td>1</td>\n",
       "      <td>0</td>\n",
       "      <td>1</td>\n",
       "      <td>1</td>\n",
       "      <td>0</td>\n",
       "      <td>0</td>\n",
       "    </tr>\n",
       "    <tr>\n",
       "      <th>4</th>\n",
       "      <td>2</td>\n",
       "      <td>-122.306426</td>\n",
       "      <td>47.545739</td>\n",
       "      <td>2</td>\n",
       "      <td>2</td>\n",
       "      <td>2</td>\n",
       "      <td>0</td>\n",
       "      <td>2</td>\n",
       "      <td>2</td>\n",
       "      <td>0</td>\n",
       "      <td>0</td>\n",
       "    </tr>\n",
       "  </tbody>\n",
       "</table>\n",
       "</div>"
      ],
      "text/plain": [
       "   SEVERITYCODE   LONGITUDE   LATITUDE  PERSONCOUNT  VEHCOUNT  JUNCTIONTYPE  \\\n",
       "0             2 -122.323148  47.703140            2         2             2   \n",
       "1             1 -122.347294  47.647172            2         2             1   \n",
       "2             1 -122.334540  47.607871            4         3             1   \n",
       "3             1 -122.334803  47.604803            3         3             1   \n",
       "4             2 -122.306426  47.545739            2         2             2   \n",
       "\n",
       "   INATTENTIONIND  WEATHER  ROADCOND  LIGHTCOND  SPEEDING  \n",
       "0               0        3         2          0         0  \n",
       "1               0        2         2          1         0  \n",
       "2               0        3         1          0         0  \n",
       "3               0        1         1          0         0  \n",
       "4               0        2         2          0         0  "
      ]
     },
     "execution_count": 54,
     "metadata": {},
     "output_type": "execute_result"
    }
   ],
   "source": [
    "df2.head()"
   ]
  },
  {
   "cell_type": "code",
   "execution_count": 55,
   "metadata": {},
   "outputs": [
    {
     "data": {
      "text/plain": [
       "Index(['SEVERITYCODE', 'LONGITUDE', 'LATITUDE', 'PERSONCOUNT', 'VEHCOUNT',\n",
       "       'JUNCTIONTYPE', 'INATTENTIONIND', 'WEATHER', 'ROADCOND', 'LIGHTCOND',\n",
       "       'SPEEDING'],\n",
       "      dtype='object')"
      ]
     },
     "execution_count": 55,
     "metadata": {},
     "output_type": "execute_result"
    }
   ],
   "source": [
    "df2.columns"
   ]
  },
  {
   "cell_type": "markdown",
   "metadata": {},
   "source": [
    "## C. Methodology<a name='methodology'></a>"
   ]
  },
  {
   "cell_type": "markdown",
   "metadata": {},
   "source": [
    "After the features are selected, they are employed for an explanatory data analysis to figure out more about their effects. The focus is on identifying the feature conditions that have a bigger effect on the severity which leads to injuries. To do so, the dataset is filtered further and the corresponding values of features are sorted.\n",
    "\n",
    "In the next step, the features are processed for predictive modeling analysis. 4 machine learning models are created using the classification techniques as listed below:\n",
    "\n",
    "K-Nearest Neighbors (KNN)\n",
    "Decision Tree\n",
    "Logistic Regression\n",
    "Random Forest\n",
    "The created models are tested and then evaluated based on their accuracy score to find the more accurate model."
   ]
  },
  {
   "cell_type": "markdown",
   "metadata": {},
   "source": [
    "<h3>C.1. Exploratory Data Analysis</h3>"
   ]
  },
  {
   "cell_type": "code",
   "execution_count": 57,
   "metadata": {},
   "outputs": [],
   "source": [
    "import folium"
   ]
  },
  {
   "cell_type": "code",
   "execution_count": 58,
   "metadata": {},
   "outputs": [],
   "source": [
    "#Visualizing 300 data points on the map\n",
    "limit = 300\n",
    "df_m1 = df2[[\"LATITUDE\", \"LONGITUDE\"]]\n",
    "df_m2 = df_m1.iloc[0:limit, :]"
   ]
  },
  {
   "cell_type": "code",
   "execution_count": 66,
   "metadata": {},
   "outputs": [
    {
     "data": {
      "text/html": [
       "<div style=\"width:100%;\"><div style=\"position:relative;width:100%;height:0;padding-bottom:60%;\"><span style=\"color:#565656\">Make this Notebook Trusted to load map: File -> Trust Notebook</span><iframe src=\"about:blank\" style=\"position:absolute;width:100%;height:100%;left:0;top:0;border:none !important;\" data-html=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 onload=\"this.contentDocument.open();this.contentDocument.write(atob(this.getAttribute('data-html')));this.contentDocument.close();\" allowfullscreen webkitallowfullscreen mozallowfullscreen></iframe></div></div>"
      ],
      "text/plain": [
       "<folium.folium.Map at 0x20364658>"
      ]
     },
     "execution_count": 66,
     "metadata": {},
     "output_type": "execute_result"
    }
   ],
   "source": [
    "Seattle_map = folium.Map(location=[47.6062, -122.3321], zoom_start=12)\n",
    "\n",
    "for lat, lng in zip(df_m2.LATITUDE, df_m2.LONGITUDE):\n",
    "    folium.Marker([lat, lng]).add_to(Seattle_map)\n",
    "\n",
    "Seattle_map"
   ]
  },
  {
   "cell_type": "code",
   "execution_count": 67,
   "metadata": {},
   "outputs": [
    {
     "data": {
      "text/html": [
       "<div>\n",
       "<style scoped>\n",
       "    .dataframe tbody tr th:only-of-type {\n",
       "        vertical-align: middle;\n",
       "    }\n",
       "\n",
       "    .dataframe tbody tr th {\n",
       "        vertical-align: top;\n",
       "    }\n",
       "\n",
       "    .dataframe thead th {\n",
       "        text-align: right;\n",
       "    }\n",
       "</style>\n",
       "<table border=\"1\" class=\"dataframe\">\n",
       "  <thead>\n",
       "    <tr style=\"text-align: right;\">\n",
       "      <th></th>\n",
       "      <th>SEVERITYCODE</th>\n",
       "      <th>LONGITUDE</th>\n",
       "      <th>LATITUDE</th>\n",
       "      <th>PERSONCOUNT</th>\n",
       "      <th>VEHCOUNT</th>\n",
       "      <th>JUNCTIONTYPE</th>\n",
       "      <th>INATTENTIONIND</th>\n",
       "      <th>WEATHER</th>\n",
       "      <th>ROADCOND</th>\n",
       "      <th>LIGHTCOND</th>\n",
       "      <th>SPEEDING</th>\n",
       "    </tr>\n",
       "  </thead>\n",
       "  <tbody>\n",
       "    <tr>\n",
       "      <th>0</th>\n",
       "      <td>2</td>\n",
       "      <td>-122.323148</td>\n",
       "      <td>47.703140</td>\n",
       "      <td>2</td>\n",
       "      <td>2</td>\n",
       "      <td>2</td>\n",
       "      <td>0</td>\n",
       "      <td>3</td>\n",
       "      <td>2</td>\n",
       "      <td>0</td>\n",
       "      <td>0</td>\n",
       "    </tr>\n",
       "    <tr>\n",
       "      <th>4</th>\n",
       "      <td>2</td>\n",
       "      <td>-122.306426</td>\n",
       "      <td>47.545739</td>\n",
       "      <td>2</td>\n",
       "      <td>2</td>\n",
       "      <td>2</td>\n",
       "      <td>0</td>\n",
       "      <td>2</td>\n",
       "      <td>2</td>\n",
       "      <td>0</td>\n",
       "      <td>0</td>\n",
       "    </tr>\n",
       "    <tr>\n",
       "      <th>7</th>\n",
       "      <td>2</td>\n",
       "      <td>-122.320780</td>\n",
       "      <td>47.614076</td>\n",
       "      <td>3</td>\n",
       "      <td>1</td>\n",
       "      <td>2</td>\n",
       "      <td>0</td>\n",
       "      <td>1</td>\n",
       "      <td>1</td>\n",
       "      <td>0</td>\n",
       "      <td>0</td>\n",
       "    </tr>\n",
       "    <tr>\n",
       "      <th>9</th>\n",
       "      <td>2</td>\n",
       "      <td>-122.384700</td>\n",
       "      <td>47.528475</td>\n",
       "      <td>2</td>\n",
       "      <td>2</td>\n",
       "      <td>2</td>\n",
       "      <td>0</td>\n",
       "      <td>1</td>\n",
       "      <td>1</td>\n",
       "      <td>0</td>\n",
       "      <td>0</td>\n",
       "    </tr>\n",
       "    <tr>\n",
       "      <th>14</th>\n",
       "      <td>2</td>\n",
       "      <td>-122.317414</td>\n",
       "      <td>47.664028</td>\n",
       "      <td>2</td>\n",
       "      <td>2</td>\n",
       "      <td>1</td>\n",
       "      <td>0</td>\n",
       "      <td>1</td>\n",
       "      <td>1</td>\n",
       "      <td>1</td>\n",
       "      <td>0</td>\n",
       "    </tr>\n",
       "  </tbody>\n",
       "</table>\n",
       "</div>"
      ],
      "text/plain": [
       "    SEVERITYCODE   LONGITUDE   LATITUDE  PERSONCOUNT  VEHCOUNT  JUNCTIONTYPE  \\\n",
       "0              2 -122.323148  47.703140            2         2             2   \n",
       "4              2 -122.306426  47.545739            2         2             2   \n",
       "7              2 -122.320780  47.614076            3         1             2   \n",
       "9              2 -122.384700  47.528475            2         2             2   \n",
       "14             2 -122.317414  47.664028            2         2             1   \n",
       "\n",
       "    INATTENTIONIND  WEATHER  ROADCOND  LIGHTCOND  SPEEDING  \n",
       "0                0        3         2          0         0  \n",
       "4                0        2         2          0         0  \n",
       "7                0        1         1          0         0  \n",
       "9                0        1         1          0         0  \n",
       "14               0        1         1          1         0  "
      ]
     },
     "execution_count": 67,
     "metadata": {},
     "output_type": "execute_result"
    }
   ],
   "source": [
    "Sev_2 = df2.loc[df2['SEVERITYCODE']==2]\n",
    "Sev_2.head()"
   ]
  },
  {
   "cell_type": "markdown",
   "metadata": {},
   "source": [
    "<h4>Relationship between the weather conditions and the accident severity with injury</h4>"
   ]
  },
  {
   "cell_type": "code",
   "execution_count": 68,
   "metadata": {},
   "outputs": [
    {
     "data": {
      "text/plain": [
       "1    37856\n",
       "2    11176\n",
       "3     8745\n",
       "5      187\n",
       "4      171\n",
       "6       28\n",
       "7       15\n",
       "8        7\n",
       "9        3\n",
       "Name: WEATHER, dtype: int64"
      ]
     },
     "execution_count": 68,
     "metadata": {},
     "output_type": "execute_result"
    }
   ],
   "source": [
    "Sev_2_w = Sev_2['WEATHER'].value_counts()\n",
    "Sev_2_w"
   ]
  },
  {
   "cell_type": "code",
   "execution_count": 69,
   "metadata": {},
   "outputs": [
    {
     "data": {
      "image/png": "[encoded data removed]",
      "text/plain": [
       "<Figure size 1080x504 with 1 Axes>"
      ]
     },
     "metadata": {},
     "output_type": "display_data"
    }
   ],
   "source": [
    "labels = 'Clear', 'Raining', 'Overcast', 'Other'\n",
    "sizes = [37856, 11176, 8745, sum(Sev_2_w[3:9])]\n",
    "explode = (0.1,0, 0, 0)\n",
    "fig1, ax1 = plt.subplots(figsize=(15,7))\n",
    "ax1.pie(sizes, explode=explode, labels=labels, autopct='%1.1f%%',shadow=True, startangle=90)\n",
    "ax1.axis('equal')  # Equal aspect ratio ensures that pie is drawn as a circle.\n",
    "plt.title('Effect of Weather Conditions on the Severity with Injury', y=1.05)\n",
    "plt.show()"
   ]
  },
  {
   "cell_type": "markdown",
   "metadata": {},
   "source": [
    "<h4>Relationship between the person count and the accident severity with injury</h4>"
   ]
  },
  {
   "cell_type": "code",
   "execution_count": 70,
   "metadata": {},
   "outputs": [
    {
     "data": {
      "text/plain": [
       "2     27811\n",
       "3     13461\n",
       "4      6295\n",
       "1      3296\n",
       "5      2969\n",
       "0      1762\n",
       "6      1357\n",
       "7       637\n",
       "8       284\n",
       "9       129\n",
       "10       74\n",
       "11       33\n",
       "12       20\n",
       "13       12\n",
       "17        8\n",
       "15        7\n",
       "14        7\n",
       "16        5\n",
       "22        2\n",
       "19        2\n",
       "34        2\n",
       "23        1\n",
       "32        1\n",
       "28        1\n",
       "27        1\n",
       "25        1\n",
       "24        1\n",
       "48        1\n",
       "37        1\n",
       "54        1\n",
       "39        1\n",
       "20        1\n",
       "18        1\n",
       "81        1\n",
       "29        1\n",
       "30        1\n",
       "Name: PERSONCOUNT, dtype: int64"
      ]
     },
     "execution_count": 70,
     "metadata": {},
     "output_type": "execute_result"
    }
   ],
   "source": [
    "Sev_2_p = Sev_2['PERSONCOUNT'].value_counts()\n",
    "Sev_2_p"
   ]
  },
  {
   "cell_type": "code",
   "execution_count": 71,
   "metadata": {},
   "outputs": [
    {
     "data": {
      "image/png": "[encoded data removed]",
      "text/plain": [
       "<Figure size 1080x504 with 1 Axes>"
      ]
     },
     "metadata": {},
     "output_type": "display_data"
    }
   ],
   "source": [
    "labels = 2, 3, 4, 1, 5, 0, 6, '>6'\n",
    "sizes = [27811, 13461, 6295, 3296, 2969, 1762, 1357, sum(Sev_2_p[3:9])]\n",
    "explode = (0.1, 0, 0, 0, 0, 0, 0, 0)\n",
    "fig1, ax1 = plt.subplots(figsize=(15,7))\n",
    "ax1.pie(sizes, explode=explode, labels=labels, autopct='%1.1f%%',shadow=True, startangle=90)\n",
    "ax1.axis('equal')  \n",
    "plt.title('Effect of Person count on the Severity with Injury', y=1)\n",
    "plt.show()"
   ]
  },
  {
   "cell_type": "markdown",
   "metadata": {},
   "source": [
    "<h4>Relationship between the vehicle count and the accident severity with injury</h4>"
   ]
  },
  {
   "cell_type": "code",
   "execution_count": 72,
   "metadata": {},
   "outputs": [
    {
     "data": {
      "text/plain": [
       "2     35949\n",
       "1     14105\n",
       "3      5470\n",
       "0      1227\n",
       "4      1078\n",
       "5       261\n",
       "6        60\n",
       "7        22\n",
       "9         6\n",
       "8         5\n",
       "11        3\n",
       "10        2\n",
       "Name: VEHCOUNT, dtype: int64"
      ]
     },
     "execution_count": 72,
     "metadata": {},
     "output_type": "execute_result"
    }
   ],
   "source": [
    "Sev_2_v = Sev_2['VEHCOUNT'].value_counts()\n",
    "Sev_2_v"
   ]
  },
  {
   "cell_type": "code",
   "execution_count": 74,
   "metadata": {},
   "outputs": [
    {
     "data": {
      "image/png": "[encoded data removed]",
      "text/plain": [
       "<Figure size 1080x648 with 1 Axes>"
      ]
     },
     "metadata": {},
     "output_type": "display_data"
    }
   ],
   "source": [
    "labels = 2, 1, 3, 0, 4,'>4'\n",
    "sizes = [35949, 14105, 5470, 1227, 1078, sum(Sev_2_p[5:12])]\n",
    "explode = (0.1, 0, 0, 0, 0, 0)\n",
    "fig1, ax1 = plt.subplots(figsize=(15,9))\n",
    "ax1.pie(sizes, explode=explode, labels=labels, autopct='%1.1f%%',shadow=True, startangle=90)\n",
    "ax1.axis('equal')  # Equal aspect ratio ensures that pie is drawn as a circle.\n",
    "plt.title('Effect of Vehicle count on the Severity with Injury', y=1.05)\n",
    "plt.show()"
   ]
  },
  {
   "cell_type": "markdown",
   "metadata": {},
   "source": [
    "<h4>Relationship between the junction type and the accident severity with injury</h4>"
   ]
  },
  {
   "cell_type": "code",
   "execution_count": 75,
   "metadata": {},
   "outputs": [
    {
     "data": {
      "text/plain": [
       "2    27174\n",
       "1    19806\n",
       "3     7297\n",
       "4     3234\n",
       "5      623\n",
       "6       54\n",
       "Name: JUNCTIONTYPE, dtype: int64"
      ]
     },
     "execution_count": 75,
     "metadata": {},
     "output_type": "execute_result"
    }
   ],
   "source": [
    "Sev_2_j = Sev_2['JUNCTIONTYPE'].value_counts()\n",
    "Sev_2_j"
   ]
  },
  {
   "cell_type": "code",
   "execution_count": 76,
   "metadata": {},
   "outputs": [
    {
     "data": {
      "image/png": "[encoded data removed]",
      "text/plain": [
       "<Figure size 1080x648 with 1 Axes>"
      ]
     },
     "metadata": {},
     "output_type": "display_data"
    }
   ],
   "source": [
    "labels = 'At Iintersection_intersection related', 'Mid-Block_not intersection related', 'Mid-Block with intersection', 'Driveway Junction', 'Other'\n",
    "sizes = [27174, 19806, 7297, 3234, sum(Sev_2_j[4:6])]\n",
    "explode = (0.1, 0, 0, 0, 0)\n",
    "fig1, ax1 = plt.subplots(figsize=(15,9))\n",
    "ax1.pie(sizes, explode=explode, labels=labels, autopct='%1.1f%%',shadow=True, startangle=90)\n",
    "ax1.axis('equal')  # Equal aspect ratio ensures that pie is drawn as a circle.\n",
    "plt.title('Effect of Junction type on the Severity with Injury', y=1.05)\n",
    "plt.show()"
   ]
  },
  {
   "cell_type": "markdown",
   "metadata": {},
   "source": [
    "<h4>Relationship between the inattention and the accident severity with injury</h4>"
   ]
  },
  {
   "cell_type": "code",
   "execution_count": 77,
   "metadata": {},
   "outputs": [
    {
     "data": {
      "text/plain": [
       "0    47791\n",
       "1    10397\n",
       "Name: INATTENTIONIND, dtype: int64"
      ]
     },
     "execution_count": 77,
     "metadata": {},
     "output_type": "execute_result"
    }
   ],
   "source": [
    "Sev_2_i = Sev_2['INATTENTIONIND'].value_counts()\n",
    "Sev_2_i"
   ]
  },
  {
   "cell_type": "code",
   "execution_count": 78,
   "metadata": {},
   "outputs": [
    {
     "data": {
      "image/png": "[encoded data removed]",
      "text/plain": [
       "<Figure size 1080x504 with 1 Axes>"
      ]
     },
     "metadata": {},
     "output_type": "display_data"
    }
   ],
   "source": [
    "labels = 'No', 'Yes'\n",
    "sizes = [47791, 10397]\n",
    "explode = (0.1, 0)\n",
    "fig1, ax1 = plt.subplots(figsize=(15,7))\n",
    "ax1.pie(sizes, explode=explode, labels=labels, autopct='%1.1f%%',shadow=True, startangle=90)\n",
    "ax1.axis('equal')  # Equal aspect ratio ensures that pie is drawn as a circle.\n",
    "plt.title('Effect of Inattention on the Severity with Injury', y=1)\n",
    "plt.show()"
   ]
  },
  {
   "cell_type": "markdown",
   "metadata": {},
   "source": [
    "<h4>Relationship between the road conditions and the accident severity with injury</h4>"
   ]
  },
  {
   "cell_type": "code",
   "execution_count": 79,
   "metadata": {},
   "outputs": [
    {
     "data": {
      "text/plain": [
       "1    41916\n",
       "2    15755\n",
       "3      273\n",
       "4      167\n",
       "5       30\n",
       "7       24\n",
       "6       23\n",
       "Name: ROADCOND, dtype: int64"
      ]
     },
     "execution_count": 79,
     "metadata": {},
     "output_type": "execute_result"
    }
   ],
   "source": [
    "Sev_2_r = Sev_2['ROADCOND'].value_counts()\n",
    "Sev_2_r"
   ]
  },
  {
   "cell_type": "code",
   "execution_count": 80,
   "metadata": {},
   "outputs": [
    {
     "data": {
      "image/png": "[encoded data removed]",
      "text/plain": [
       "<Figure size 1080x504 with 1 Axes>"
      ]
     },
     "metadata": {},
     "output_type": "display_data"
    }
   ],
   "source": [
    "labels = 'dry', 'wet', 'ic, sand, oil, standing water'\n",
    "sizes = [41916, 15755, sum(Sev_2_r[2:7])]\n",
    "explode = (0.1, 0, 0)\n",
    "fig1, ax1 = plt.subplots(figsize=(15,7))\n",
    "ax1.pie(sizes, explode=explode, labels=labels, autopct='%1.1f%%',shadow=True, startangle=90)\n",
    "ax1.axis('equal')  # Equal aspect ratio ensures that pie is drawn as a circle.\n",
    "plt.title('Effect of Road condition on the Severity with Injury', y=1.05)\n",
    "plt.show()"
   ]
  },
  {
   "cell_type": "markdown",
   "metadata": {},
   "source": [
    "<h3>Modeling, Testing and Evaluation</h3>"
   ]
  },
  {
   "cell_type": "code",
   "execution_count": 81,
   "metadata": {},
   "outputs": [],
   "source": [
    "Feature = df2[['LONGITUDE', 'LATITUDE', 'PERSONCOUNT', 'VEHCOUNT',\n",
    "       'JUNCTIONTYPE', 'INATTENTIONIND', 'WEATHER', 'ROADCOND', 'LIGHTCOND',\n",
    "       'SPEEDING']]"
   ]
  },
  {
   "cell_type": "code",
   "execution_count": 82,
   "metadata": {},
   "outputs": [],
   "source": [
    "X = Feature"
   ]
  },
  {
   "cell_type": "code",
   "execution_count": 83,
   "metadata": {},
   "outputs": [],
   "source": [
    "y = df2['SEVERITYCODE'].values\n"
   ]
  },
  {
   "cell_type": "markdown",
   "metadata": {},
   "source": [
    "<h4>Normalize Data</h4>"
   ]
  },
  {
   "cell_type": "code",
   "execution_count": 84,
   "metadata": {},
   "outputs": [
    {
     "data": {
      "text/plain": [
       "array([[ 0.24930404,  1.50948129, -0.33020207,  0.12553783,  0.24566547,\n",
       "        -0.42518348,  1.91514317,  1.3926872 , -0.66472702, -0.22440165],\n",
       "       [-0.56747188,  0.49889979, -0.33020207,  0.12553783, -0.81596734,\n",
       "        -0.42518348,  0.64986567,  1.3926872 ,  1.50437693, -0.22440165],\n",
       "       [-0.1360361 , -0.21073866,  1.15576451,  1.7102107 , -0.81596734,\n",
       "        -0.42518348,  1.91514317, -0.53629605, -0.66472702, -0.22440165],\n",
       "       [-0.14494267, -0.26614566,  0.41278122,  1.7102107 , -0.81596734,\n",
       "        -0.42518348, -0.61541182, -0.53629605, -0.66472702, -0.22440165],\n",
       "       [ 0.81495737, -1.33262277, -0.33020207,  0.12553783,  0.24566547,\n",
       "        -0.42518348,  0.64986567,  1.3926872 , -0.66472702, -0.22440165]])"
      ]
     },
     "execution_count": 84,
     "metadata": {},
     "output_type": "execute_result"
    }
   ],
   "source": [
    "X= preprocessing.StandardScaler().fit(X).transform(X)\n",
    "X[0:5]"
   ]
  },
  {
   "cell_type": "code",
   "execution_count": 85,
   "metadata": {},
   "outputs": [
    {
     "name": "stdout",
     "output_type": "stream",
     "text": [
      "Train set: (155738, 10) (155738,)\n",
      "Test set: (38935, 10) (38935,)\n"
     ]
    }
   ],
   "source": [
    "X_train, X_test, y_train, y_test = train_test_split( X, y, test_size=0.2, random_state=4)\n",
    "print ('Train set:', X_train.shape,  y_train.shape)\n",
    "print ('Test set:', X_test.shape,  y_test.shape)"
   ]
  },
  {
   "cell_type": "markdown",
   "metadata": {},
   "source": [
    "<h4>K-Nearest Neighbours (KNN)</h4>"
   ]
  },
  {
   "cell_type": "code",
   "execution_count": 86,
   "metadata": {},
   "outputs": [
    {
     "data": {
      "text/plain": [
       "array([0.66605882, 0.71539746, 0.6977013 , 0.72559394, 0.71442147,\n",
       "       0.73132143, 0.72153589, 0.73293951, 0.72677539])"
      ]
     },
     "execution_count": 86,
     "metadata": {},
     "output_type": "execute_result"
    }
   ],
   "source": [
    "#Finding the best k\n",
    "Ks = 10\n",
    "mean_acc = np.zeros((Ks-1))\n",
    "std_acc = np.zeros((Ks-1))\n",
    "ConfustionMx = [];\n",
    "for n in range(1,Ks):\n",
    "    \n",
    "    #Train Model and Predict  \n",
    "    kNNeigh = KNeighborsClassifier(n_neighbors = n).fit(X_train,y_train)\n",
    "    yhat = kNNeigh.predict(X_test)\n",
    "    \n",
    "    \n",
    "    mean_acc[n-1] = metrics.accuracy_score(y_test, yhat);\n",
    "    \n",
    "    std_acc[n-1]=np.std(yhat==y_test)/np.sqrt(yhat.shape[0])\n",
    "\n",
    "mean_acc"
   ]
  },
  {
   "cell_type": "code",
   "execution_count": 87,
   "metadata": {},
   "outputs": [
    {
     "data": {
      "image/png": "[encoded data removed]",
      "text/plain": [
       "<Figure size 432x288 with 1 Axes>"
      ]
     },
     "metadata": {
      "needs_background": "light"
     },
     "output_type": "display_data"
    }
   ],
   "source": [
    "#Plot model accuracy for Different number of Neighbors\n",
    "plt.plot(range(1,Ks),mean_acc,'g')\n",
    "plt.fill_between(range(1,Ks),mean_acc - 1 * std_acc,mean_acc + 1 * std_acc, alpha=0.10)\n",
    "plt.legend(('Accuracy ', '+/- 3xstd'))\n",
    "plt.ylabel('Accuracy ')\n",
    "plt.xlabel('Number of Nabors (K)')\n",
    "plt.tight_layout()\n",
    "plt.show()"
   ]
  },
  {
   "cell_type": "code",
   "execution_count": 88,
   "metadata": {},
   "outputs": [
    {
     "name": "stdout",
     "output_type": "stream",
     "text": [
      "Best k = 8\n"
     ]
    }
   ],
   "source": [
    "print( \"Best k =\", mean_acc.argmax()+1)\n"
   ]
  },
  {
   "cell_type": "code",
   "execution_count": 89,
   "metadata": {},
   "outputs": [
    {
     "data": {
      "text/plain": [
       "KNeighborsClassifier(n_neighbors=8)"
      ]
     },
     "execution_count": 89,
     "metadata": {},
     "output_type": "execute_result"
    }
   ],
   "source": [
    "#Building the model using the best k \n",
    "k=8\n",
    "kNNeigh= KNeighborsClassifier(n_neighbors = k).fit(X_train,y_train)\n",
    "kNNeigh"
   ]
  },
  {
   "cell_type": "code",
   "execution_count": 90,
   "metadata": {},
   "outputs": [
    {
     "name": "stdout",
     "output_type": "stream",
     "text": [
      "K-Nearest Neighbours Accuray:  0.7267753948889174\n"
     ]
    }
   ],
   "source": [
    "print(\"K-Nearest Neighbours Accuray: \", metrics.accuracy_score(y_test, yhat))"
   ]
  },
  {
   "cell_type": "markdown",
   "metadata": {},
   "source": [
    "<h4>Decision Tree</h4>"
   ]
  },
  {
   "cell_type": "code",
   "execution_count": 91,
   "metadata": {},
   "outputs": [
    {
     "data": {
      "text/plain": [
       "DecisionTreeClassifier(criterion='entropy', max_depth=4)"
      ]
     },
     "execution_count": 91,
     "metadata": {},
     "output_type": "execute_result"
    }
   ],
   "source": [
    "DTree = DecisionTreeClassifier(criterion=\"entropy\", max_depth = 4)\n",
    "DTree.fit(X_train,y_train)"
   ]
  },
  {
   "cell_type": "code",
   "execution_count": 92,
   "metadata": {},
   "outputs": [
    {
     "data": {
      "text/plain": [
       "array([1, 1, 1, ..., 1, 1, 1], dtype=int64)"
      ]
     },
     "execution_count": 92,
     "metadata": {},
     "output_type": "execute_result"
    }
   ],
   "source": [
    "#Prediction\n",
    "yhat = DTree.predict(X_test)\n",
    "yhat"
   ]
  },
  {
   "cell_type": "code",
   "execution_count": 93,
   "metadata": {},
   "outputs": [
    {
     "name": "stdout",
     "output_type": "stream",
     "text": [
      "DecisionTrees's Accuracy:  0.7429562090663927\n"
     ]
    }
   ],
   "source": [
    "print(\"DecisionTrees's Accuracy: \", metrics.accuracy_score(y_test, yhat))"
   ]
  },
  {
   "cell_type": "markdown",
   "metadata": {},
   "source": [
    "<h4>Logistic Regression</h4>"
   ]
  },
  {
   "cell_type": "code",
   "execution_count": 95,
   "metadata": {},
   "outputs": [
    {
     "data": {
      "text/plain": [
       "LogisticRegression(C=0.01, solver='liblinear')"
      ]
     },
     "execution_count": 95,
     "metadata": {},
     "output_type": "execute_result"
    }
   ],
   "source": [
    "LR = LogisticRegression(C=0.01, solver='liblinear').fit(X_train,y_train)\n",
    "LR"
   ]
  },
  {
   "cell_type": "code",
   "execution_count": 96,
   "metadata": {},
   "outputs": [
    {
     "data": {
      "text/plain": [
       "array([1, 1, 1, ..., 1, 1, 1], dtype=int64)"
      ]
     },
     "execution_count": 96,
     "metadata": {},
     "output_type": "execute_result"
    }
   ],
   "source": [
    "#Prediction\n",
    "yhat = LR.predict(X_test)\n",
    "yhat"
   ]
  },
  {
   "cell_type": "code",
   "execution_count": 97,
   "metadata": {},
   "outputs": [
    {
     "name": "stdout",
     "output_type": "stream",
     "text": [
      "Logistic Regresion's Accuracy:  0.7030949017593425\n"
     ]
    }
   ],
   "source": [
    "print(\"Logistic Regresion's Accuracy: \", metrics.accuracy_score(y_test, yhat))"
   ]
  },
  {
   "cell_type": "markdown",
   "metadata": {},
   "source": [
    "<h4>Visualize important features using Random Forest</h4>"
   ]
  },
  {
   "cell_type": "code",
   "execution_count": 98,
   "metadata": {},
   "outputs": [
    {
     "data": {
      "text/plain": [
       "Text(0.5, 1.0, 'Visualizing Important Features')"
      ]
     },
     "execution_count": 98,
     "metadata": {},
     "output_type": "execute_result"
    },
    {
     "data": {
      "image/png": "[encoded data removed]",
      "text/plain": [
       "<Figure size 432x288 with 1 Axes>"
      ]
     },
     "metadata": {
      "needs_background": "light"
     },
     "output_type": "display_data"
    }
   ],
   "source": [
    "# Create a list of feature names\n",
    "feat_labels = ['SEVERITYCODE', 'LONGITUDE', 'LATITUDE','PERSONCOUNT', \n",
    "               'VEHCOUNT', 'JUNCTIONTYPE', 'INATTENTIONIND',\n",
    "               'WEATHER', 'ROADCOND', 'LIGHTCOND', 'SPEEDING']\n",
    "target='SEVERITYCODE'\n",
    "\n",
    "# set X and y\n",
    "y = df2[target]\n",
    "X = df2.drop(target, axis=1)\n",
    "\n",
    "# Split the data set into training and testing data sets\n",
    "X_train, X_test, y_train, y_test = train_test_split(X, y, test_size=0.2, random_state=21, stratify=y)\n",
    "\n",
    "# Create a random forest classifier\n",
    "clf = RandomForestClassifier(n_estimators=100)\n",
    "\n",
    "# Train the classifier\n",
    "clf.fit(X_train, y_train)\n",
    "\n",
    "feature_imp = pd.Series(clf.feature_importances_,index=X.columns).sort_values(ascending=False)\n",
    "\n",
    "# Creating a bar plot, displaying only the top k features\n",
    "k=10\n",
    "sns.barplot(x=feature_imp[:10], y=feature_imp.index[:k])\n",
    "plt.xlabel('Feature Importance Score')\n",
    "plt.ylabel('Features')\n",
    "plt.title(\"Visualizing Important Features\")"
   ]
  },
  {
   "cell_type": "markdown",
   "metadata": {},
   "source": [
    "## C. Results and Discussion"
   ]
  },
  {
   "cell_type": "code",
   "execution_count": 99,
   "metadata": {},
   "outputs": [
    {
     "data": {
      "text/plain": [
       "Text(0.5, 1.0, 'Accuracy Score versus Algorithm')"
      ]
     },
     "execution_count": 99,
     "metadata": {},
     "output_type": "execute_result"
    },
    {
     "data": {
      "image/png": "[encoded data removed]",
      "text/plain": [
       "<Figure size 432x288 with 1 Axes>"
      ]
     },
     "metadata": {
      "needs_background": "light"
     },
     "output_type": "display_data"
    }
   ],
   "source": [
    "algo_lst =['K-Nearest Neighbors','Decision Trees','Logistic Regression','Random Forest']\n",
    "\n",
    "accuracy_lst = [0.7267753948889174, 0.7429562090663927, 0.7030949017593425, 0.711878772312829]\n",
    "\n",
    "# Generate a list of ticks for y-axis\n",
    "y_ticks=np.arange(len(algo_lst))\n",
    "\n",
    "#Combine the list of algorithms and list of accuracy scores into a dataframe, sort the value based on accuracy score\n",
    "df_acc=pd.DataFrame(list(zip(algo_lst, accuracy_lst)), columns=['Algorithm','Accuracy_Score']).sort_values(by=['Accuracy_Score'],ascending = True)\n",
    "\n",
    "# Make a plot\n",
    "ax=df_acc.plot.barh('Algorithm', 'Accuracy_Score', align='center',legend=False,color='0.5')\n",
    "\n",
    "# Add the data label on to the plot\n",
    "for i in ax.patches:\n",
    "    # get_width pulls left or right; get_y pushes up or down\n",
    "    ax.text(i.get_width()+0.02, i.get_y()+0.2, str(round(i.get_width(),2)), fontsize=10)\n",
    "\n",
    "# Set the limit, lables, ticks and title\n",
    "plt.xlim(0,1.1)\n",
    "plt.xlabel('Accuracy Score')\n",
    "plt.yticks(y_ticks, df_acc['Algorithm'], rotation=0)\n",
    "plt.title('Accuracy Score versus Algorithm')"
   ]
  },
  {
   "cell_type": "markdown",
   "metadata": {},
   "source": [
    "## Conclusion"
   ]
  },
  {
   "cell_type": "markdown",
   "metadata": {},
   "source": [
    "In this study, supervised machine learning is employed to predict car accident severity. The imbalanced dataset is firstly balanced, and the raw data is understood and prepared in different steps to be used for the predictive modeling analysis. In parallel, an explanatory data analysis is done to gain more insight into the relationship between the features and the severity of the accidents.\n",
    "\n",
    "Four machine learning algorithms (K-Nearest Neighbors, Decision Trees, Logistic Regression, and Random Forest) are applied in which the decision tree has shown better compatibility with the dataset, resulting in higher accuracy (0.74).\n",
    "\n",
    "One idea for future work can be developing the decision tree machine learning model to improve its accuracy further. Adding more data to the dataset can help to compensate for the missing values. Gathering more data about other parameters such as the age of the drivers can also help to gain a more detailed insight into the car accident severity."
   ]
  },
  {
   "cell_type": "code",
   "execution_count": null,
   "metadata": {},
   "outputs": [],
   "source": []
  }
 ],
 "metadata": {
  "kernelspec": {
   "display_name": "Python 3",
   "language": "python",
   "name": "python3"
  },
  "language_info": {
   "codemirror_mode": {
    "name": "ipython",
    "version": 3
   },
   "file_extension": ".py",
   "mimetype": "text/x-python",
   "name": "python",
   "nbconvert_exporter": "python",
   "pygments_lexer": "ipython3",
   "version": "3.8.4"
  }
 },
 "nbformat": 4,
 "nbformat_minor": 4
}
